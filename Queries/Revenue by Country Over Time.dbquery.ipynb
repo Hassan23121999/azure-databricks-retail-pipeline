{
 "cells": [
  {
   "cell_type": "code",
   "execution_count": 0,
   "metadata": {
    "application/vnd.databricks.v1+cell": {
     "cellMetadata": {},
     "inputWidgets": {},
     "nuid": "fc6d3c23-5a68-4661-b0c1-27399e394b83",
     "showTitle": false,
     "tableResultSettingsMap": {},
     "title": ""
    }
   },
   "outputs": [],
   "source": [
    "SELECT Date, Country, SUM(Revenue) AS Revenue\n",
    "FROM retail_gold_daily_sales\n",
    "GROUP BY Date, Country\n",
    "ORDER BY Date\n"
   ]
  }
 ],
 "metadata": {
  "application/vnd.databricks.v1+notebook": {
   "computePreferences": null,
   "dashboards": [],
   "environmentMetadata": null,
   "inputWidgetPreferences": null,
   "language": "sql",
   "notebookMetadata": {
    "pythonIndentUnit": 4,
    "sqlQueryOptions": {
     "applyAutoLimit": true,
     "catalog": "databrickspractice",
     "schema": "default"
    }
   },
   "notebookName": "Revenue by Country Over Time.dbquery.ipynb",
   "widgets": {}
  },
  "language_info": {
   "name": "sql"
  }
 },
 "nbformat": 4,
 "nbformat_minor": 0
}
