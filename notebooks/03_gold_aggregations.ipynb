{
 "cells": [
  {
   "cell_type": "code",
   "execution_count": 0,
   "metadata": {
    "application/vnd.databricks.v1+cell": {
     "cellMetadata": {
      "byteLimit": 2048000,
      "rowLimit": 10000
     },
     "inputWidgets": {},
     "nuid": "047173d5-e3fd-4883-9bfa-e1d48329d8d1",
     "showTitle": false,
     "tableResultSettingsMap": {},
     "title": ""
    }
   },
   "outputs": [],
   "source": [
    "# Load Silver table\n",
    "silver_df = spark.read.table(\"retail_silver\")\n",
    "\n",
    "print(\"📌 Silver Table Schema:\")\n",
    "silver_df.printSchema()\n",
    "\n",
    "display(silver_df.limit(5))\n"
   ]
  },
  {
   "cell_type": "code",
   "execution_count": 0,
   "metadata": {
    "application/vnd.databricks.v1+cell": {
     "cellMetadata": {
      "byteLimit": 2048000,
      "rowLimit": 10000
     },
     "inputWidgets": {},
     "nuid": "c371e201-ad76-4e14-bb98-13d6bcbed5a4",
     "showTitle": false,
     "tableResultSettingsMap": {},
     "title": ""
    }
   },
   "outputs": [],
   "source": [
    "from pyspark.sql.functions import col, sum as _sum, date_trunc, round, to_date\n",
    "\n",
    "# Aggregate daily revenue by country\n",
    "daily_sales = silver_df.groupBy(\n",
    "    col(\"Country\"),\n",
    "    to_date(date_trunc(\"day\", col(\"InvoiceDate\"))).alias(\"Date\")   # clean date format\n",
    ").agg(\n",
    "    round(_sum(col(\"Quantity\") * col(\"UnitPrice\")), 2).alias(\"Revenue\")  # round revenue\n",
    ")\n",
    "\n",
    "# Display first 40 rows ordered by date\n",
    "display(daily_sales.orderBy(\"Date\").limit(40))\n"
   ]
  },
  {
   "cell_type": "code",
   "execution_count": 0,
   "metadata": {
    "application/vnd.databricks.v1+cell": {
     "cellMetadata": {
      "byteLimit": 2048000,
      "rowLimit": 10000
     },
     "inputWidgets": {},
     "nuid": "39076ac8-0eab-4d61-a42a-89f2f616c9e8",
     "showTitle": false,
     "tableResultSettingsMap": {},
     "title": ""
    }
   },
   "outputs": [],
   "source": [
    "daily_sales.write.format(\"delta\") \\\n",
    "    .mode(\"overwrite\") \\\n",
    "    .save(\"abfss://data@databricksmths.dfs.core.windows.net/retail/gold/daily_sales\")\n"
   ]
  },
  {
   "cell_type": "code",
   "execution_count": 0,
   "metadata": {
    "application/vnd.databricks.v1+cell": {
     "cellMetadata": {
      "byteLimit": 2048000,
      "implicitDf": true,
      "rowLimit": 10000
     },
     "inputWidgets": {},
     "nuid": "cac65c81-39be-4932-8a30-da96034503bd",
     "showTitle": false,
     "tableResultSettingsMap": {},
     "title": ""
    }
   },
   "outputs": [],
   "source": [
    "%sql\n",
    "DROP TABLE IF EXISTS retail_gold_daily_sales;\n",
    "\n",
    "CREATE TABLE retail_gold_daily_sales\n",
    "USING DELTA\n",
    "LOCATION 'abfss://data@databricksmths.dfs.core.windows.net/retail/gold/daily_sales';\n"
   ]
  },
  {
   "cell_type": "code",
   "execution_count": 0,
   "metadata": {
    "application/vnd.databricks.v1+cell": {
     "cellMetadata": {
      "byteLimit": 2048000,
      "rowLimit": 10000
     },
     "inputWidgets": {},
     "nuid": "7f3466e5-4eeb-4d6d-b557-76bb822db78e",
     "showTitle": false,
     "tableResultSettingsMap": {},
     "title": ""
    }
   },
   "outputs": [],
   "source": [
    "gold_df = spark.read.table(\"retail_gold_daily_sales\")\n",
    "\n",
    "print(\" Gold Daily Sales Schema:\")\n",
    "gold_df.printSchema()\n",
    "\n",
    "display(gold_df.orderBy(\"Date\").limit(20))\n"
   ]
  },
  {
   "cell_type": "code",
   "execution_count": 0,
   "metadata": {
    "application/vnd.databricks.v1+cell": {
     "cellMetadata": {
      "byteLimit": 2048000,
      "rowLimit": 10000
     },
     "inputWidgets": {},
     "nuid": "ca61ff7c-faa6-4598-8346-fd9b0c6a7bfb",
     "showTitle": false,
     "tableResultSettingsMap": {},
     "title": ""
    }
   },
   "outputs": [],
   "source": [
    "from pyspark.sql.functions import desc\n",
    "\n",
    "top_products = silver_df.groupBy(\"ProductCode\", \"ProductDesc\") \\\n",
    "    .agg(_sum(\"Quantity\").alias(\"TotalQuantity\")) \\\n",
    "    .orderBy(desc(\"TotalQuantity\")) \\\n",
    "    .limit(10)\n",
    "\n",
    "display(top_products)\n"
   ]
  },
  {
   "cell_type": "code",
   "execution_count": 0,
   "metadata": {
    "application/vnd.databricks.v1+cell": {
     "cellMetadata": {
      "byteLimit": 2048000,
      "rowLimit": 10000
     },
     "inputWidgets": {},
     "nuid": "c113c27a-a6a7-4f2e-8793-2256882ae32f",
     "showTitle": false,
     "tableResultSettingsMap": {},
     "title": ""
    }
   },
   "outputs": [],
   "source": [
    "top_products.write.format(\"delta\") \\\n",
    "    .mode(\"overwrite\") \\\n",
    "    .save(\"abfss://data@databricksmths.dfs.core.windows.net/retail/gold/top_products\")\n"
   ]
  },
  {
   "cell_type": "code",
   "execution_count": 0,
   "metadata": {
    "application/vnd.databricks.v1+cell": {
     "cellMetadata": {
      "byteLimit": 2048000,
      "implicitDf": true,
      "rowLimit": 10000
     },
     "inputWidgets": {},
     "nuid": "40555c1e-64a5-4727-bdd1-6f151ce95e7c",
     "showTitle": false,
     "tableResultSettingsMap": {},
     "title": ""
    }
   },
   "outputs": [],
   "source": [
    "%sql\n",
    "DROP TABLE IF EXISTS retail_gold_top_products;\n",
    "\n",
    "CREATE TABLE retail_gold_top_products\n",
    "USING DELTA\n",
    "LOCATION 'abfss://data@databricksmths.dfs.core.windows.net/retail/gold/top_products';\n"
   ]
  },
  {
   "cell_type": "code",
   "execution_count": 0,
   "metadata": {
    "application/vnd.databricks.v1+cell": {
     "cellMetadata": {
      "byteLimit": 2048000,
      "implicitDf": true,
      "rowLimit": 10000
     },
     "inputWidgets": {},
     "nuid": "d26aa01e-355d-4dbe-9f75-166d6f660bf9",
     "showTitle": false,
     "tableResultSettingsMap": {
      "0": {
       "dataGridStateBlob": "{\"version\":1,\"tableState\":{\"columnPinning\":{\"left\":[\"#row_number#\"],\"right\":[]},\"columnSizing\":{},\"columnVisibility\":{}},\"settings\":{\"columns\":{}},\"syncTimestamp\":1757284824856}",
       "filterBlob": null,
       "queryPlanFiltersBlob": null,
       "tableResultIndex": 0
      }
     },
     "title": ""
    }
   },
   "outputs": [],
   "source": [
    "%sql\n",
    "SELECT * FROM retail_gold_top_products LIMIT 10;"
   ]
  }
 ],
 "metadata": {
  "application/vnd.databricks.v1+notebook": {
   "computePreferences": null,
   "dashboards": [],
   "environmentMetadata": {
    "base_environment": "",
    "environment_version": "3"
   },
   "inputWidgetPreferences": null,
   "language": "python",
   "notebookMetadata": {
    "mostRecentlyExecutedCommandWithImplicitDF": {
     "commandId": 7179885027273599,
     "dataframes": [
      "_sqldf"
     ]
    },
    "pythonIndentUnit": 4
   },
   "notebookName": "03_gold_aggregations",
   "widgets": {}
  },
  "language_info": {
   "name": "python"
  }
 },
 "nbformat": 4,
 "nbformat_minor": 0
}
