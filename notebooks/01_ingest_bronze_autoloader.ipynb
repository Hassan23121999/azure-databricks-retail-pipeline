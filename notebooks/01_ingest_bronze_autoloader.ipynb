{
 "cells": [
  {
   "cell_type": "code",
   "execution_count": 0,
   "metadata": {
    "application/vnd.databricks.v1+cell": {
     "cellMetadata": {
      "byteLimit": 2048000,
      "rowLimit": 10000
     },
     "inputWidgets": {},
     "nuid": "d3a53206-aea0-465c-926c-a9b276ad5fab",
     "showTitle": false,
     "tableResultSettingsMap": {},
     "title": ""
    }
   },
   "outputs": [],
   "source": [
    "df = spark.readStream.format('cloudFiles') \\\n",
    "    .option(\"cloudFiles.format\", \"csv\") \\\n",
    "    .option(\"header\", \"true\") \\\n",
    "    .option(\"inferSchema\", \"true\") \\\n",
    "    .option(\"delimiter\", \";\")\\\n",
    "    .option(\"cloudFiles.schemaLocation\", \"abfss://data@databricksmths.dfs.core.windows.net/retail/checkpoint\") \\\n",
    "    .load(\"abfss://data@databricksmths.dfs.core.windows.net/retail/raw\")\n",
    "\n"
   ]
  },
  {
   "cell_type": "code",
   "execution_count": 0,
   "metadata": {
    "application/vnd.databricks.v1+cell": {
     "cellMetadata": {
      "byteLimit": 2048000,
      "rowLimit": 10000
     },
     "inputWidgets": {},
     "nuid": "2a4167c6-1604-4344-aaec-aa2914c09d99",
     "showTitle": false,
     "tableResultSettingsMap": {},
     "title": ""
    }
   },
   "outputs": [],
   "source": [
    "\n",
    "(df.writeStream.format(\"delta\")\n",
    "   # checkpoint folder (important for exactly-once processing)\n",
    "   .option(\"checkpointLocation\", \"abfss://data@databricksmths.dfs.core.windows.net/retail/checkpoints/bronze\")\n",
    "   \n",
    "   # handle schema changes automatically\n",
    "   .option(\"cloudFiles.schemaEvolutionMode\", \"addNewColumns\")\n",
    "   .option(\"mergeSchema\", \"true\")\n",
    "   \n",
    "   # log bad records separately\n",
    "   .option(\"badRecordsPath\", \"abfss://data@databricksmths.dfs.core.windows.net/retail/badrecords\")\n",
    "   \n",
    "   # append mode = keep adding new files\n",
    "   .outputMode(\"append\")\n",
    "   \n",
    "   # write as Delta table in metastore\n",
    "   .table(\"retail_bronze\")\n",
    ")\n"
   ]
  },
  {
   "cell_type": "code",
   "execution_count": 0,
   "metadata": {
    "application/vnd.databricks.v1+cell": {
     "cellMetadata": {
      "byteLimit": 2048000,
      "rowLimit": 10000
     },
     "inputWidgets": {},
     "nuid": "113639d8-d0f3-44ed-8952-6e256d0325d6",
     "showTitle": false,
     "tableResultSettingsMap": {},
     "title": ""
    }
   },
   "outputs": [],
   "source": [
    "# Read a small sample from the Bronze table\n",
    "bronze_df = spark.read.table(\"retail_bronze\")\n",
    "\n",
    "print(\"📌 Bronze Table Schema:\")\n",
    "bronze_df.printSchema()\n",
    "\n",
    "print(\"📌 Sample Bronze Records:\")\n",
    "display(bronze_df.limit(10))\n"
   ]
  }
 ],
 "metadata": {
  "application/vnd.databricks.v1+notebook": {
   "computePreferences": null,
   "dashboards": [],
   "environmentMetadata": {
    "base_environment": "",
    "environment_version": "3"
   },
   "inputWidgetPreferences": null,
   "language": "python",
   "notebookMetadata": {
    "pythonIndentUnit": 4
   },
   "notebookName": "01_ingest_bronze_autoloader",
   "widgets": {}
  },
  "language_info": {
   "name": "python"
  }
 },
 "nbformat": 4,
 "nbformat_minor": 0
}
