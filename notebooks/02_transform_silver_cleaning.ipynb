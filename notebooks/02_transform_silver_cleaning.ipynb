{
 "cells": [
  {
   "cell_type": "code",
   "execution_count": 0,
   "metadata": {
    "application/vnd.databricks.v1+cell": {
     "cellMetadata": {
      "byteLimit": 2048000,
      "rowLimit": 10000
     },
     "inputWidgets": {},
     "nuid": "4a923b5b-a547-4b16-bcd1-a4e5511426ec",
     "showTitle": false,
     "tableResultSettingsMap": {},
     "title": ""
    }
   },
   "outputs": [],
   "source": [
    "# Load Bronze table\n",
    "bronze_df = spark.read.table(\"retail_bronze\")\n",
    "\n",
    "print(\"📌 Bronze Table Schema:\")\n",
    "bronze_df.printSchema()\n",
    "\n",
    "display(bronze_df.limit(5))\n"
   ]
  },
  {
   "cell_type": "code",
   "execution_count": 0,
   "metadata": {
    "application/vnd.databricks.v1+cell": {
     "cellMetadata": {
      "byteLimit": 2048000,
      "rowLimit": 10000
     },
     "inputWidgets": {},
     "nuid": "6961d164-9f42-41c4-8455-f49980988f84",
     "showTitle": false,
     "tableResultSettingsMap": {},
     "title": ""
    }
   },
   "outputs": [],
   "source": [
    "# Path to Bronze Delta log\n",
    "bronze_log_path = \"abfss://data@databricksmths.dfs.core.windows.net/retail/bronze/_delta_log/*.json\"\n",
    "\n",
    "# Read Delta transaction log\n",
    "log_df = spark.read.json(bronze_log_path)\n",
    "\n",
    "print(\"📌 Raw Delta Log Schema:\")\n",
    "log_df.printSchema()\n",
    "\n",
    "display(log_df.limit(5))\n"
   ]
  },
  {
   "cell_type": "code",
   "execution_count": 0,
   "metadata": {
    "application/vnd.databricks.v1+cell": {
     "cellMetadata": {
      "byteLimit": 2048000,
      "rowLimit": 10000
     },
     "inputWidgets": {},
     "nuid": "5e4b539c-c8ed-408a-8333-fb06d8cab532",
     "showTitle": false,
     "tableResultSettingsMap": {},
     "title": ""
    }
   },
   "outputs": [],
   "source": [
    "from delta.tables import DeltaTable\n",
    "\n",
    "delta_bronze = DeltaTable.forPath(spark, \"abfss://data@databricksmths.dfs.core.windows.net/retail/bronze\")\n",
    "\n",
    "# View transaction history (who wrote what, when)\n",
    "display(delta_bronze.history())\n"
   ]
  },
  {
   "cell_type": "code",
   "execution_count": 0,
   "metadata": {
    "application/vnd.databricks.v1+cell": {
     "cellMetadata": {
      "byteLimit": 2048000,
      "rowLimit": 10000
     },
     "inputWidgets": {},
     "nuid": "29aeec75-c90a-496e-be2d-b6b97709207c",
     "showTitle": false,
     "tableResultSettingsMap": {},
     "title": ""
    }
   },
   "outputs": [],
   "source": [
    "from pyspark.sql.functions import to_timestamp, col, regexp_replace\n",
    "\n",
    "silver_df = bronze_df \\\n",
    "    .withColumn(\"Quantity\", col(\"Quantity\").cast(\"int\")) \\\n",
    "    .withColumn(\"UnitPrice\", regexp_replace(\"UnitPrice\", \",\", \".\").cast(\"double\"))\\\n",
    "    .withColumn(\"CustomerID\", col(\"CustomerID\").cast(\"int\")) \\\n",
    "    .withColumn(\"InvoiceDate\", to_timestamp(\"InvoiceDate\", \"dd.MM.yy HH:mm\")) \\\n",
    "    .withColumnRenamed(\"StockCode\", \"ProductCode\") \\\n",
    "    .withColumnRenamed(\"Description\", \"ProductDesc\") \\\n",
    "    .drop(\"_rescued_data\")\n",
    "\n",
    "# Drop nulls for key business columns\n",
    "silver_df = silver_df.filter(\n",
    "    col(\"InvoiceNo\").isNotNull() &\n",
    "    col(\"ProductCode\").isNotNull() &\n",
    "    col(\"CustomerID\").isNotNull()\n",
    ")\n"
   ]
  },
  {
   "cell_type": "code",
   "execution_count": 0,
   "metadata": {
    "application/vnd.databricks.v1+cell": {
     "cellMetadata": {
      "byteLimit": 2048000,
      "rowLimit": 10000
     },
     "inputWidgets": {},
     "nuid": "8b321fb7-ecba-4c42-9431-11446f86694f",
     "showTitle": false,
     "tableResultSettingsMap": {},
     "title": ""
    }
   },
   "outputs": [],
   "source": [
    "# Save Silver data into ADLS\n",
    "silver_df.write.format(\"delta\") \\\n",
    "    .mode(\"overwrite\") \\\n",
    "    .save(\"abfss://data@databricksmths.dfs.core.windows.net/retail/silver\")\n"
   ]
  },
  {
   "cell_type": "code",
   "execution_count": 0,
   "metadata": {
    "application/vnd.databricks.v1+cell": {
     "cellMetadata": {
      "byteLimit": 2048000,
      "implicitDf": true,
      "rowLimit": 10000
     },
     "inputWidgets": {},
     "nuid": "fc8e6c32-5027-4f28-bec8-02e06a5ee3da",
     "showTitle": false,
     "tableResultSettingsMap": {},
     "title": ""
    }
   },
   "outputs": [],
   "source": [
    "%sql\n",
    "-- Drop old table if exists\n",
    "DROP TABLE IF EXISTS retail_silver;\n",
    "\n",
    "-- Register Silver table in Unity Catalog\n",
    "CREATE TABLE retail_silver\n",
    "USING DELTA\n",
    "LOCATION 'abfss://data@databricksmths.dfs.core.windows.net/retail/silver';\n"
   ]
  },
  {
   "cell_type": "code",
   "execution_count": 0,
   "metadata": {
    "application/vnd.databricks.v1+cell": {
     "cellMetadata": {
      "byteLimit": 2048000,
      "rowLimit": 10000
     },
     "inputWidgets": {},
     "nuid": "a533594f-64d3-48c7-ada4-8f704b7465d6",
     "showTitle": false,
     "tableResultSettingsMap": {},
     "title": ""
    }
   },
   "outputs": [],
   "source": [
    "silver_check = spark.read.table(\"retail_silver\")\n",
    "\n",
    "print(\"📌 Silver Table Schema:\")\n",
    "silver_check.printSchema()\n",
    "\n",
    "display(silver_check.limit(10))\n"
   ]
  }
 ],
 "metadata": {
  "application/vnd.databricks.v1+notebook": {
   "computePreferences": null,
   "dashboards": [],
   "environmentMetadata": {
    "base_environment": "",
    "environment_version": "3"
   },
   "inputWidgetPreferences": null,
   "language": "python",
   "notebookMetadata": {
    "mostRecentlyExecutedCommandWithImplicitDF": {
     "commandId": 7179885027273587,
     "dataframes": [
      "_sqldf"
     ]
    },
    "pythonIndentUnit": 4
   },
   "notebookName": "02_transform_silver_cleaning",
   "widgets": {}
  },
  "language_info": {
   "name": "python"
  }
 },
 "nbformat": 4,
 "nbformat_minor": 0
}
