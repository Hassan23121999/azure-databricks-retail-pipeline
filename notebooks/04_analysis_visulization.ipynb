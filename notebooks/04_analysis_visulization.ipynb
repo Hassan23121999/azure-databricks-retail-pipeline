{
 "cells": [
  {
   "cell_type": "code",
   "execution_count": 0,
   "metadata": {
    "application/vnd.databricks.v1+cell": {
     "cellMetadata": {
      "byteLimit": 2048000,
      "rowLimit": 10000
     },
     "inputWidgets": {},
     "nuid": "325f9f6a-9b63-46a9-bd1a-6a03c40a6c84",
     "showTitle": false,
     "tableResultSettingsMap": {},
     "title": ""
    }
   },
   "outputs": [],
   "source": [
    "\n",
    "daily_sales = spark.read.table(\"retail_gold_daily_sales\")\n",
    "top_products = spark.read.table(\"retail_gold_top_products\")\n",
    "\n",
    "print(\"📌 Daily Sales Schema:\")\n",
    "daily_sales.printSchema()\n",
    "\n",
    "print(\"📌 Top Products Schema:\")\n",
    "top_products.printSchema()\n",
    "\n",
    "display(daily_sales.limit(5))\n",
    "display(top_products.limit(5))\n"
   ]
  },
  {
   "cell_type": "code",
   "execution_count": 0,
   "metadata": {
    "application/vnd.databricks.v1+cell": {
     "cellMetadata": {
      "byteLimit": 2048000,
      "implicitDf": true,
      "rowLimit": 10000
     },
     "inputWidgets": {},
     "nuid": "f0a4a853-87cb-4e49-b7bf-76a5828141ea",
     "showTitle": false,
     "tableResultSettingsMap": {},
     "title": ""
    }
   },
   "outputs": [],
   "source": [
    "%sql\n",
    "-- Total revenue per country\n",
    "SELECT Country, SUM(Revenue) AS TotalRevenue\n",
    "FROM retail_gold_daily_sales\n",
    "GROUP BY Country\n",
    "ORDER BY TotalRevenue DESC\n",
    "LIMIT 10;\n"
   ]
  },
  {
   "cell_type": "code",
   "execution_count": 0,
   "metadata": {
    "application/vnd.databricks.v1+cell": {
     "cellMetadata": {
      "byteLimit": 2048000,
      "implicitDf": true,
      "rowLimit": 10000
     },
     "inputWidgets": {},
     "nuid": "b347c34c-5107-4f67-aba8-830e8684295f",
     "showTitle": false,
     "tableResultSettingsMap": {},
     "title": ""
    }
   },
   "outputs": [],
   "source": [
    "%sql\n",
    "-- Best selling products\n",
    "SELECT ProductCode, ProductDesc, TotalQuantity\n",
    "FROM retail_gold_top_products\n",
    "ORDER BY TotalQuantity DESC\n",
    "LIMIT 10;\n"
   ]
  },
  {
   "cell_type": "code",
   "execution_count": 0,
   "metadata": {
    "application/vnd.databricks.v1+cell": {
     "cellMetadata": {
      "byteLimit": 2048000,
      "rowLimit": 10000
     },
     "inputWidgets": {},
     "nuid": "33ffea50-1493-4bbc-bf22-14a4d54b51d0",
     "showTitle": false,
     "tableResultSettingsMap": {},
     "title": ""
    }
   },
   "outputs": [],
   "source": [
    "import matplotlib.pyplot as plt\n",
    "\n",
    "# Daily revenue for Germany\n",
    "germany_sales = daily_sales.filter(daily_sales.Country == \"Germany\") \\\n",
    "    .orderBy(\"Date\") \\\n",
    "    .toPandas()\n",
    "\n",
    "plt.figure(figsize=(10,5))\n",
    "plt.plot(germany_sales[\"Date\"], germany_sales[\"Revenue\"], marker=\"o\")\n",
    "plt.title(\"Daily Revenue - Germany\")\n",
    "plt.xlabel(\"Date\")\n",
    "plt.ylabel(\"Revenue (€)\")\n",
    "plt.xticks(rotation=45)\n",
    "plt.show()\n"
   ]
  },
  {
   "cell_type": "code",
   "execution_count": 0,
   "metadata": {
    "application/vnd.databricks.v1+cell": {
     "cellMetadata": {
      "byteLimit": 2048000,
      "rowLimit": 10000
     },
     "inputWidgets": {},
     "nuid": "ff4feb80-d69a-40ea-97f0-69da9d27cad8",
     "showTitle": false,
     "tableResultSettingsMap": {},
     "title": ""
    }
   },
   "outputs": [],
   "source": [
    "import matplotlib.pyplot as plt\n",
    "from pyspark.sql.functions import col, sum as _sum, date_trunc, round, to_date\n",
    "# Aggregate total revenue across all countries per day\n",
    "all_sales = daily_sales.groupBy(\"Date\") \\\n",
    "    .agg(_sum(\"Revenue\").alias(\"TotalRevenue\")) \\\n",
    "    .orderBy(\"Date\") \\\n",
    "    .toPandas()\n",
    "\n",
    "plt.figure(figsize=(12,6))\n",
    "plt.plot(all_sales[\"Date\"], all_sales[\"TotalRevenue\"], marker=\"o\", color=\"navy\")\n",
    "plt.title(\"Total Daily Revenue (All Countries)\", fontsize=14)\n",
    "plt.xlabel(\"Date\")\n",
    "plt.ylabel(\"Revenue (€)\")\n",
    "plt.xticks(rotation=45)\n",
    "plt.grid(True, linestyle=\"--\", alpha=0.6)\n",
    "plt.show()\n"
   ]
  },
  {
   "cell_type": "code",
   "execution_count": 0,
   "metadata": {
    "application/vnd.databricks.v1+cell": {
     "cellMetadata": {
      "byteLimit": 2048000,
      "rowLimit": 10000
     },
     "inputWidgets": {},
     "nuid": "55f5eddc-006c-4a42-91bb-ed0bfa1bb120",
     "showTitle": false,
     "tableResultSettingsMap": {},
     "title": ""
    }
   },
   "outputs": [],
   "source": [
    "top_countries = daily_sales.groupBy(\"Country\") \\\n",
    "    .agg(_sum(\"Revenue\").alias(\"TotalRevenue\")) \\\n",
    "    .orderBy(col(\"TotalRevenue\").desc()) \\\n",
    "    .limit(10) \\\n",
    "    .toPandas()\n",
    "\n",
    "plt.figure(figsize=(10,6))\n",
    "plt.barh(top_countries[\"Country\"], top_countries[\"TotalRevenue\"], color=\"teal\")\n",
    "plt.title(\"Top 10 Countries by Total Revenue\", fontsize=14)\n",
    "plt.xlabel(\"Revenue (€)\")\n",
    "plt.gca().invert_yaxis()  # Largest on top\n",
    "plt.show()\n"
   ]
  },
  {
   "cell_type": "code",
   "execution_count": 0,
   "metadata": {
    "application/vnd.databricks.v1+cell": {
     "cellMetadata": {
      "byteLimit": 2048000,
      "rowLimit": 10000
     },
     "inputWidgets": {},
     "nuid": "31e0c58e-d786-4486-94e1-ce489c539789",
     "showTitle": false,
     "tableResultSettingsMap": {},
     "title": ""
    }
   },
   "outputs": [],
   "source": [
    "# Distribution of revenue values\n",
    "revenue_dist = daily_sales.select(\"Revenue\").toPandas()\n",
    "\n",
    "plt.figure(figsize=(8,6))\n",
    "plt.hist(revenue_dist[\"Revenue\"].dropna(), bins=30, color=\"purple\", alpha=0.7)\n",
    "plt.title(\"Distribution of Daily Revenue\", fontsize=14)\n",
    "plt.xlabel(\"Revenue (€)\")\n",
    "plt.ylabel(\"Frequency\")\n",
    "plt.grid(True, alpha=0.4)\n",
    "plt.show()\n"
   ]
  },
  {
   "cell_type": "code",
   "execution_count": 0,
   "metadata": {
    "application/vnd.databricks.v1+cell": {
     "cellMetadata": {
      "byteLimit": 2048000,
      "rowLimit": 10000
     },
     "inputWidgets": {},
     "nuid": "8bb3ef25-dadd-478b-96e5-23c36620e391",
     "showTitle": false,
     "tableResultSettingsMap": {},
     "title": ""
    }
   },
   "outputs": [],
   "source": [
    "top_products_pd = top_products.orderBy(col(\"TotalQuantity\").desc()).limit(10).toPandas()\n",
    "\n",
    "plt.figure(figsize=(12,6))\n",
    "plt.bar(top_products_pd[\"ProductDesc\"], top_products_pd[\"TotalQuantity\"], color=\"orange\")\n",
    "plt.title(\"Top 10 Products by Quantity Sold\", fontsize=14)\n",
    "plt.xlabel(\"Product\")\n",
    "plt.ylabel(\"Quantity Sold\")\n",
    "plt.xticks(rotation=75, ha=\"right\")\n",
    "plt.show()\n"
   ]
  }
 ],
 "metadata": {
  "application/vnd.databricks.v1+notebook": {
   "computePreferences": null,
   "dashboards": [],
   "environmentMetadata": {
    "base_environment": "",
    "environment_version": "3"
   },
   "inputWidgetPreferences": null,
   "language": "python",
   "notebookMetadata": {
    "mostRecentlyExecutedCommandWithImplicitDF": {
     "commandId": 7179885027273603,
     "dataframes": [
      "_sqldf"
     ]
    },
    "pythonIndentUnit": 4
   },
   "notebookName": "04_analysis_visulization",
   "widgets": {}
  },
  "language_info": {
   "name": "python"
  }
 },
 "nbformat": 4,
 "nbformat_minor": 0
}
